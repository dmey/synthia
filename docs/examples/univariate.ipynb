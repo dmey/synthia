{
 "cells": [
  {
   "cell_type": "markdown",
   "metadata": {},
   "source": [
    "# Univariate"
   ]
  },
  {
   "cell_type": "markdown",
   "metadata": {},
   "source": [
    "## Import libraries"
   ]
  },
  {
   "cell_type": "code",
   "execution_count": null,
   "metadata": {},
   "outputs": [],
   "source": [
    "import numpy as np\n",
    "import matplotlib.pyplot as plt\n",
    "import synthia as syn"
   ]
  },
  {
   "cell_type": "markdown",
   "metadata": {},
   "source": [
    "## Load sample data"
   ]
  },
  {
   "cell_type": "code",
   "execution_count": null,
   "metadata": {},
   "outputs": [],
   "source": [
    "ds_true = syn.util.load_dataset(name='SAF-Synthetic')\n",
    "# We only select one level as we are dealing with univariate data\n",
    "ds_true = ds_true.sel(level=-1)\n",
    "ds_true['temperature_fl'].plot.hist()\n",
    "plt.xlabel('Air temperature in K');"
   ]
  },
  {
   "cell_type": "markdown",
   "metadata": {},
   "source": [
    "## Fit and generate using samples"
   ]
  },
  {
   "cell_type": "code",
   "execution_count": null,
   "metadata": {},
   "outputs": [],
   "source": [
    "generator = syn.CopulaDataGenerator()\n",
    "# We fit and store the original samples and use them to recontuct new synthetic samples. \n",
    "generator.fit(ds_true, copula=syn.IndependenceCopula())\n",
    "N_SAMPLES = 1000\n",
    "ds_synth_empirical = generator.generate(N_SAMPLES)\n",
    "ds_synth_empirical['temperature_fl'].plot.hist()\n",
    "plt.xlabel('Air temperature in K');"
   ]
  },
  {
   "cell_type": "markdown",
   "metadata": {},
   "source": [
    "## Fit and generate using parametrized distribution"
   ]
  },
  {
   "cell_type": "code",
   "execution_count": null,
   "metadata": {
    "scrolled": false
   },
   "outputs": [],
   "source": [
    "generator = syn.CopulaDataGenerator()\n",
    "# We now fit a parametric distribution instead of using the original samples (it may take some time)\n",
    "dist_names = set(syn.DistributionParameterizer.get_dist_names())\n",
    "# Remove all very slow distributions\n",
    "dist_names -= set(['genexpon', 'levy_stable', 'recipinvgauss', 'vonmises', 'ncx2',\n",
    "                   'kstwo', 'ncf', 'tukeylambda', 'nct', 'skewnorm', 'norminvgauss', 'gausshyper', 'geninvgauss'])\n",
    "generator.fit(ds_true, copula=syn.IndependenceCopula(), \n",
    "    parameterize_by=syn.DistributionParameterizer(dist_names, verbose=False))\n",
    "ds_synth_param = generator.generate(1000)\n",
    "ds_synth_param['temperature_fl'].plot.hist()\n",
    "plt.xlabel('Air temperature in K');"
   ]
  },
  {
   "cell_type": "markdown",
   "metadata": {},
   "source": [
    "## Stretching and unifomization"
   ]
  },
  {
   "cell_type": "code",
   "execution_count": null,
   "metadata": {},
   "outputs": [],
   "source": [
    "ds_synth_stretched = generator.generate(1000, stretch_factor=2)\n",
    "ds_synth_stretched['temperature_fl'].plot.hist()\n",
    "plt.xlabel('Air temperature in K');"
   ]
  },
  {
   "cell_type": "code",
   "execution_count": null,
   "metadata": {},
   "outputs": [],
   "source": [
    "ds_synth_uniformization = generator.generate(1000, uniformization_ratio=0.5)\n",
    "ds_synth_uniformization['temperature_fl'].plot.hist()\n",
    "plt.xlabel('Air temperature in K');"
   ]
  },
  {
   "cell_type": "markdown",
   "metadata": {},
   "source": [
    "## Exporting and saving generated data"
   ]
  },
  {
   "cell_type": "code",
   "execution_count": null,
   "metadata": {},
   "outputs": [],
   "source": [
    "# As the original xarray structured is mainted we can convert or save the data in any of xarray's supoorted formats\n",
    "ds_synth_param.to_dataframe()"
   ]
  },
  {
   "cell_type": "code",
   "execution_count": null,
   "metadata": {},
   "outputs": [],
   "source": [
    "# Or saving as a netCDF file\n",
    "ds_synth_param.to_netcdf('ds_synth_param.nc')"
   ]
  },
  {
   "cell_type": "markdown",
   "metadata": {},
   "source": [
    "## Saving the generator"
   ]
  },
  {
   "cell_type": "code",
   "execution_count": null,
   "metadata": {},
   "outputs": [],
   "source": [
    "# Alternatively we can store the generator object into a pickle object, that we can later reload\n",
    "import pickle\n",
    "pickled = pickle.dumps(generator)\n",
    "generator = pickle.loads(pickled)"
   ]
  },
  {
   "cell_type": "code",
   "execution_count": null,
   "metadata": {},
   "outputs": [],
   "source": [
    "# Or to a file\n",
    "with open('generator.pkl', 'wb') as f:\n",
    "    pickle.dump(generator, f)\n",
    "    \n",
    "with open('generator.pkl', 'rb') as f:\n",
    "    generator = pickle.load(f)"
   ]
  },
  {
   "cell_type": "code",
   "execution_count": null,
   "metadata": {},
   "outputs": [],
   "source": []
  }
 ],
 "metadata": {
  "kernelspec": {
   "display_name": "Python 3",
   "language": "python",
   "name": "python3"
  },
  "language_info": {
   "codemirror_mode": {
    "name": "ipython",
    "version": 3
   },
   "file_extension": ".py",
   "mimetype": "text/x-python",
   "name": "python",
   "nbconvert_exporter": "python",
   "pygments_lexer": "ipython3",
   "version": "3.8.5"
  }
 },
 "nbformat": 4,
 "nbformat_minor": 4
}
