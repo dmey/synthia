{
 "cells": [
  {
   "cell_type": "markdown",
   "metadata": {},
   "source": [
    "# Multivariate: independent"
   ]
  },
  {
   "cell_type": "markdown",
   "metadata": {},
   "source": [
    "## Import libraries "
   ]
  },
  {
   "cell_type": "code",
   "execution_count": null,
   "metadata": {},
   "outputs": [],
   "source": [
    "import pickle\n",
    "import numpy as np\n",
    "import xarray as xr\n",
    "import seaborn as sns\n",
    "\n",
    "import synthia as syn\n",
    "\n",
    "import warnings\n",
    "warnings.filterwarnings('ignore')"
   ]
  },
  {
   "cell_type": "markdown",
   "metadata": {},
   "source": [
    "##  Create test data"
   ]
  },
  {
   "cell_type": "code",
   "execution_count": null,
   "metadata": {},
   "outputs": [],
   "source": [
    "# Create a sample dataset with n samples\n",
    "N_SAMPLES = 1000\n",
    "\n",
    "# Generate normally distributed random samples with two features\n",
    "data = np.empty((N_SAMPLES, 2))\n",
    "data[:,0] = np.random.normal(loc=100.0, size=N_SAMPLES)\n",
    "data[:,1] = np.random.normal(loc=0.0, size=N_SAMPLES)\n",
    "\n",
    "h = sns.jointplot(data[:, 0], data[:, 1], kind='kde', stat_func=None)\n",
    "h.set_axis_labels('X1', 'X2', fontsize=16);"
   ]
  },
  {
   "cell_type": "markdown",
   "metadata": {},
   "source": [
    "## Generate synthetic data"
   ]
  },
  {
   "cell_type": "code",
   "execution_count": null,
   "metadata": {},
   "outputs": [],
   "source": [
    "generator = syn.CopulaDataGenerator()\n",
    "\n",
    "generator.fit(data, copula=syn.IndependenceCopula())\n",
    "\n",
    "print(f'Storage size: {len(pickle.dumps(generator))} bytes')\n",
    "\n",
    "samples = generator.generate(n_samples=N_SAMPLES)\n",
    "\n",
    "h = sns.jointplot(samples[:, 0], samples[:, 1], kind='kde', stat_func=None)\n",
    "h.set_axis_labels('X1', 'X2', fontsize=16);"
   ]
  },
  {
   "cell_type": "markdown",
   "metadata": {},
   "source": [
    "## Generate synthetic data with modified characteristics"
   ]
  },
  {
   "cell_type": "code",
   "execution_count": null,
   "metadata": {},
   "outputs": [],
   "source": [
    "samples = generator.generate(n_samples=N_SAMPLES, uniformization_ratio=0.5, stretch_factor=5)\n",
    "\n",
    "h = sns.jointplot(samples[:, 0], samples[:, 1], kind='kde', stat_func=None)\n",
    "h.set_axis_labels('X1', 'X2', fontsize=16);"
   ]
  },
  {
   "cell_type": "markdown",
   "metadata": {},
   "source": [
    "## Parameterize data using quantiles\n",
    "Parameterization can be useful if the generator should be saved (pickled) while reducing the storage size."
   ]
  },
  {
   "cell_type": "code",
   "execution_count": null,
   "metadata": {},
   "outputs": [],
   "source": [
    "generator = syn.CopulaDataGenerator()\n",
    "\n",
    "parameterizer = syn.QuantileParameterizer(n_quantiles=100)\n",
    "\n",
    "generator.fit(data, copula=syn.IndependenceCopula(), parameterize_by=parameterizer)\n",
    "\n",
    "print(f'Storage size: {len(pickle.dumps(generator))} bytes')\n",
    "\n",
    "samples = generator.generate(n_samples=N_SAMPLES)\n",
    "\n",
    "h = sns.jointplot(samples[:, 0], samples[:, 1], kind='kde', stat_func=None)\n",
    "h.set_axis_labels('X1', 'X2', fontsize=16);"
   ]
  },
  {
   "cell_type": "markdown",
   "metadata": {},
   "source": [
    "## Parameterize data using distributions\n",
    "Parameterization can be useful if the generator should be saved (pickled) while reducing the storage size."
   ]
  },
  {
   "cell_type": "code",
   "execution_count": null,
   "metadata": {},
   "outputs": [],
   "source": [
    "generator = syn.CopulaDataGenerator()\n",
    "\n",
    "# Use dist_names = None to try all available distributions. Note that this may take a while.\n",
    "dist_names = ['norm']\n",
    "parameterizer = syn.DistributionParameterizer(dist_names)\n",
    "\n",
    "generator.fit(data, copula=syn.IndependenceCopula(), parameterize_by=parameterizer)\n",
    "\n",
    "print(f'Storage size: {len(pickle.dumps(generator))} bytes')\n",
    "\n",
    "samples = generator.generate(n_samples=N_SAMPLES)\n",
    "\n",
    "h = sns.jointplot(samples[:, 0], samples[:, 1], kind='kde', stat_func=None)\n",
    "h.set_axis_labels('X1', 'X2', fontsize=16);"
   ]
  },
  {
   "cell_type": "code",
   "execution_count": null,
   "metadata": {},
   "outputs": [],
   "source": []
  }
 ],
 "metadata": {
  "kernelspec": {
   "display_name": "Python 3",
   "language": "python",
   "name": "python3"
  },
  "language_info": {
   "codemirror_mode": {
    "name": "ipython",
    "version": 3
   },
   "file_extension": ".py",
   "mimetype": "text/x-python",
   "name": "python",
   "nbconvert_exporter": "python",
   "pygments_lexer": "ipython3",
   "version": "3.8.5"
  }
 },
 "nbformat": 4,
 "nbformat_minor": 4
}
