{
 "cells": [
  {
   "cell_type": "markdown",
   "metadata": {},
   "source": [
    "# Stretching and uniformization"
   ]
  },
  {
   "cell_type": "markdown",
   "metadata": {},
   "source": [
    "## Import libraries"
   ]
  },
  {
   "cell_type": "code",
   "execution_count": null,
   "metadata": {},
   "outputs": [],
   "source": [
    "import numpy as np\n",
    "import matplotlib.pyplot as plt\n",
    "import synthia as syn"
   ]
  },
  {
   "cell_type": "markdown",
   "metadata": {},
   "source": [
    "## Define plotting function"
   ]
  },
  {
   "cell_type": "code",
   "execution_count": null,
   "metadata": {},
   "outputs": [],
   "source": [
    "def plot_profiles(ds, var_name, n_profiles=100):\n",
    "    _, ax = plt.subplots(figsize=(6, 4))\n",
    "    for column in np.random.choice(ds.column, n_profiles):\n",
    "        ds[var_name].sel(column=column).plot(ax=ax, c='#332288', alpha=0.15)\n",
    "    ax.set_ylabel('Air temperature in K')\n",
    "    ax.set_xlabel('Atmospheric level')"
   ]
  },
  {
   "cell_type": "markdown",
   "metadata": {},
   "source": [
    "## Plot source data"
   ]
  },
  {
   "cell_type": "code",
   "execution_count": null,
   "metadata": {},
   "outputs": [],
   "source": [
    "ds_true = syn.util.load_dataset(name='SAF-Synthetic')\n",
    "plot_profiles(ds_true, 'temperature_fl')"
   ]
  },
  {
   "cell_type": "markdown",
   "metadata": {},
   "source": [
    "## Fit copula to data"
   ]
  },
  {
   "cell_type": "code",
   "execution_count": null,
   "metadata": {},
   "outputs": [],
   "source": [
    "parameterizer = syn.QuantileParameterizer(n_quantiles=100)\n",
    "generator = syn.CopulaDataGenerator()\n",
    "generator.fit(ds_true, copula=syn.GaussianCopula(), parameterize_by=parameterizer)"
   ]
  },
  {
   "cell_type": "markdown",
   "metadata": {},
   "source": [
    "## Generate 'streatched' samples"
   ]
  },
  {
   "cell_type": "code",
   "execution_count": null,
   "metadata": {},
   "outputs": [],
   "source": [
    "N_SAMPLES = 100\n",
    "ds_synthetic = generator.generate(n_samples=N_SAMPLES, uniformization_ratio=0, stretch_factor=2)\n",
    "plot_profiles(ds_synthetic, 'temperature_fl')"
   ]
  },
  {
   "cell_type": "markdown",
   "metadata": {},
   "source": [
    "## Generate 'more uniformly distributed' samples"
   ]
  },
  {
   "cell_type": "code",
   "execution_count": null,
   "metadata": {},
   "outputs": [],
   "source": [
    "N_SAMPLES = 100\n",
    "ds_synthetic = generator.generate(n_samples=N_SAMPLES, uniformization_ratio=0.5, stretch_factor=1)\n",
    "plot_profiles(ds_synthetic, 'temperature_fl')"
   ]
  },
  {
   "cell_type": "code",
   "execution_count": null,
   "metadata": {},
   "outputs": [],
   "source": []
  }
 ],
 "metadata": {
  "kernelspec": {
   "display_name": "Python 3",
   "language": "python",
   "name": "python3"
  },
  "language_info": {
   "codemirror_mode": {
    "name": "ipython",
    "version": 3
   },
   "file_extension": ".py",
   "mimetype": "text/x-python",
   "name": "python",
   "nbconvert_exporter": "python",
   "pygments_lexer": "ipython3",
   "version": "3.8.5"
  }
 },
 "nbformat": 4,
 "nbformat_minor": 4
}
