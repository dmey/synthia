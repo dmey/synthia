{
 "cells": [
  {
   "cell_type": "markdown",
   "metadata": {},
   "source": [
    "# Machine learning: correlated multivariate scalars"
   ]
  },
  {
   "cell_type": "code",
   "execution_count": null,
   "metadata": {},
   "outputs": [],
   "source": [
    "%load_ext autoreload\n",
    "%autoreload 2\n",
    "\n",
    "import numpy as np\n",
    "import xarray as xr\n",
    "import pandas as pd\n",
    "\n",
    "from sklearn.datasets import load_boston\n",
    "from sklearn.model_selection import train_test_split\n",
    "\n",
    "from multiprocessing import cpu_count\n",
    "\n",
    "import synthia as syn\n",
    "\n",
    "import pyvinecopulib as pv\n",
    "\n",
    "import matplotlib.pyplot as plt"
   ]
  },
  {
   "cell_type": "markdown",
   "metadata": {},
   "source": [
    "## Baseline\n",
    "Use the Boston housing dataset as it small and contains several correlated futures"
   ]
  },
  {
   "cell_type": "code",
   "execution_count": null,
   "metadata": {},
   "outputs": [],
   "source": [
    "X, y = load_boston(return_X_y=True)\n",
    "X = pd.DataFrame(load_boston(return_X_y=False)['data']).drop([1,3,8], axis=1).to_numpy() # FIXME\n",
    "X_train, X_test, y_train, y_test = train_test_split(X, y, test_size=0.2)"
   ]
  },
  {
   "cell_type": "code",
   "execution_count": null,
   "metadata": {},
   "outputs": [],
   "source": [
    "from sklearn.linear_model import LinearRegression\n",
    "# Use linear regression as simple and easy to train model\n",
    "model = LinearRegression()\n",
    "model.fit(X_train, y_train)\n",
    "score_baseline = model.score(X_test, y_test)\n",
    "print(score_baseline)"
   ]
  },
  {
   "cell_type": "markdown",
   "metadata": {},
   "source": [
    "## Data generation\n",
    "\n",
    "Use a simple gaussian copula to generate model. If the copula has a perfect fit we would expect the score to be equal to that in the baseline"
   ]
  },
  {
   "cell_type": "code",
   "execution_count": null,
   "metadata": {},
   "outputs": [],
   "source": [
    "def create_synthetic(X_true, y_true, n_samples, uniformization_ratio, stretch_factor, use_pyvinecopulib=True):\n",
    "    \"\"\"\n",
    "    Combines X and y into a single dataset D, models it\n",
    "    using a copula, and generates a synthetic dataset S. It \n",
    "    returns the new, synthetic versions of X and y.\n",
    "    \"\"\"\n",
    "    Xy_true = xr.DataArray(np.concatenate([X_true, np.expand_dims(y_true, 1)], axis=1))\n",
    "    \n",
    "    generator = syn.CopulaDataGenerator(verbose=True)\n",
    "    parameterizer = syn.QuantileParameterizer(n_quantiles=Xy_true.shape[0])\n",
    "    if use_pyvinecopulib:\n",
    "        ctrl = pv.FitControlsVinecop(num_threads=cpu_count())\n",
    "        generator.fit(Xy_true, copula=syn.VineCopula(controls=ctrl), parameterize_by=parameterizer)\n",
    "    else:\n",
    "        generator.fit(Xy_true, copula=syn.GaussianCopula(), parameterize_by=parameterizer)\n",
    "    \n",
    "    Xy_synthetic = generator.generate(n_samples=n_samples,\n",
    "                                       uniformization_ratio=uniformization_ratio,\n",
    "                                       stretch_factor=stretch_factor)\n",
    "    X_synthetic = Xy_synthetic[:,:-1]\n",
    "    y_synthetic = Xy_synthetic[:,-1]\n",
    "    return X_synthetic, y_synthetic"
   ]
  },
  {
   "cell_type": "code",
   "execution_count": null,
   "metadata": {},
   "outputs": [],
   "source": [
    "n_samples = X_train.shape[0] * 1 # Same samples as in the original data\n",
    "X_synthetic, y_synthetic = create_synthetic(X_train, y_train, n_samples,\n",
    "                                            uniformization_ratio=0, stretch_factor=1, \n",
    "                                            use_pyvinecopulib=False)\n",
    "\n",
    "model = LinearRegression()\n",
    "model.fit(X_synthetic, y_synthetic)\n",
    "\n",
    "score_copula_gaussian = model.score(X_test, y_test)\n",
    "print(score_copula_gaussian)"
   ]
  },
  {
   "cell_type": "code",
   "execution_count": null,
   "metadata": {},
   "outputs": [],
   "source": [
    "n_samples = X_train.shape[0] * 5 # Ten times as many samples as in the original data\n",
    "X_synthetic, y_synthetic = create_synthetic(X_train, y_train, n_samples,\n",
    "                                            uniformization_ratio=0, stretch_factor=1, \n",
    "                                            use_pyvinecopulib=True)\n",
    "\n",
    "model = LinearRegression()\n",
    "model.fit(X_synthetic, y_synthetic)\n",
    "\n",
    "score_copula_pyvinecopulib = model.score(X_test, y_test)\n",
    "print(score_copula_pyvinecopulib)"
   ]
  },
  {
   "cell_type": "code",
   "execution_count": null,
   "metadata": {},
   "outputs": [],
   "source": [
    "n_samples = X_train.shape[0] * 10 # Ten times as many samples as in the original data\n",
    "X_synthetic, y_synthetic = create_synthetic(X_train, y_train, n_samples,\n",
    "                                            uniformization_ratio=0, stretch_factor=1.2, \n",
    "                                            use_pyvinecopulib=False)\n",
    "\n",
    "model = LinearRegression()\n",
    "model.fit(X_synthetic, y_synthetic)\n",
    "\n",
    "score_copula_augmented = model.score(X_test, y_test)\n",
    "print(score_copula_augmented)"
   ]
  },
  {
   "cell_type": "code",
   "execution_count": null,
   "metadata": {},
   "outputs": [],
   "source": [
    "ind = (1,2,3, 4)\n",
    "plt.bar(ind, (score_baseline, score_copula_gaussian, score_copula_pyvinecopulib, score_copula_augmented))\n",
    "plt.xticks(ind, ('baseline', 'gaussian', 'vinecopulib', 'gaussian_augmented'));\n",
    "\n",
    "# Althought the scores are similar, in both cases are lower and we fail to improve the results \n",
    "# when generating more samples/increasing the range... "
   ]
  },
  {
   "cell_type": "code",
   "execution_count": null,
   "metadata": {},
   "outputs": [],
   "source": []
  }
 ],
 "metadata": {
  "kernelspec": {
   "display_name": "Python 3",
   "language": "python",
   "name": "python3"
  },
  "language_info": {
   "codemirror_mode": {
    "name": "ipython",
    "version": 3
   },
   "file_extension": ".py",
   "mimetype": "text/x-python",
   "name": "python",
   "nbconvert_exporter": "python",
   "pygments_lexer": "ipython3",
   "version": "3.8.5"
  }
 },
 "nbformat": 4,
 "nbformat_minor": 4
}
