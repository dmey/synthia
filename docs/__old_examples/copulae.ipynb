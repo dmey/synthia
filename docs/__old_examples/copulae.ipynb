{
 "cells": [
  {
   "cell_type": "code",
   "execution_count": null,
   "metadata": {},
   "outputs": [],
   "source": [
    "%load_ext autoreload\n",
    "%autoreload 2\n",
    "\n",
    "from pathlib import Path\n",
    "import numpy as np\n",
    "from scipy.constants import Stefan_Boltzmann\n",
    "import xarray as xr\n",
    "\n",
    "import matplotlib.pyplot as plt\n",
    "import seaborn as sns\n",
    "\n",
    "import synthia as syn\n",
    "from synthia.util import to_stacked_array, to_unstacked_dataset\n",
    "\n",
    "from copulae import NormalCopula\n",
    "import numpy as np\n",
    "\n",
    "from scipy.stats import multivariate_normal"
   ]
  },
  {
   "cell_type": "markdown",
   "metadata": {},
   "source": [
    "## Input data"
   ]
  },
  {
   "cell_type": "code",
   "execution_count": null,
   "metadata": {},
   "outputs": [],
   "source": [
    "THIS_DIR = Path.cwd()\n",
    "ds_input = xr.open_dataset(THIS_DIR.parents[1] / 'data' / 'nwp_saf_profiles_in.nc')\n",
    "\n",
    "input_relevant = [\n",
    "    'temperature_fl',\n",
    "    'temperature_hl',\n",
    "    'pressure_hl',\n",
    "]\n",
    "\n",
    "ds_true_in = ds_input[input_relevant]\n",
    "ds_true_in"
   ]
  },
  {
   "cell_type": "raw",
   "metadata": {},
   "source": [
    "sparta_out = xr.open_dataset(\"/mnt/c/Users/David/Documents/GitHub/dmey/phd-rads/saf_profiles/data/ecrad_nwp_saf_profiles_spartacus_out.nc\")\n",
    "triple_out = xr.open_dataset(\"/mnt/c/Users/David/Documents/GitHub/dmey/phd-rads/saf_profiles/data/ecrad_nwp_saf_profiles_tripleclouds_out.nc\")"
   ]
  },
  {
   "cell_type": "code",
   "execution_count": null,
   "metadata": {},
   "outputs": [],
   "source": [
    "# Create a sample dataset with n samples\n",
    "N_SAMPLES = 1000\n",
    "mvnorm = multivariate_normal(mean=[0, 0], cov=[[1, 0.5], \n",
    "                                                           [0.5, 1]])\n",
    "# Generate random samples from multivariate normal with correlation .5\n",
    "data = xr.DataArray(mvnorm.rvs(N_SAMPLES))\n",
    "\n",
    "h = sns.jointplot(data[:, 0], data[:, 1], kind='kde', stat_func=None)\n",
    "h.set_axis_labels('X1', 'X2', fontsize=16);"
   ]
  },
  {
   "cell_type": "code",
   "execution_count": null,
   "metadata": {},
   "outputs": [],
   "source": [
    "generator = syn.CopulaDataGenerator()\n",
    "\n",
    "parameterizer = syn.QuantileParameterizer(n_quantiles=100)\n",
    "\n",
    "generator.fit(data, copula=syn.GaussianCopula(), parameterize_by=parameterizer)\n",
    "\n",
    "samples = generator.generate(n_samples=100, uniformization_ratio=0, stretch_factor=2)\n",
    "\n",
    "h = sns.jointplot(samples[:, 0], samples[:, 1], kind='kde', stat_func=None)\n",
    "h.set_axis_labels('X1', 'X2', fontsize=16);"
   ]
  },
  {
   "cell_type": "code",
   "execution_count": null,
   "metadata": {},
   "outputs": [],
   "source": [
    "data = xr.DataArray(mvnorm.rvs(N_SAMPLES))\n",
    "\n",
    "rank = data.compute().rank(data.dims[0])\n",
    "rank_standardized = rank / (rank.max(data.dims[0]) + 1)\n",
    "\n",
    "cop = NormalCopula(2)\n",
    "cop.fit(rank_standardized)\n",
    "samples =  cop.random(N_SAMPLES)  # simulate random number\n",
    "\n",
    "\n",
    "for i in range(2):\n",
    "    samples[:,i] = np.quantile(data[:,i], q=samples[:, i], interpolation='linear')\n",
    "\n",
    "h = sns.jointplot(samples[:, 0], samples[:, 1], kind='kde', stat_func=None)\n",
    "h.set_axis_labels('X1', 'X2', fontsize=16);"
   ]
  },
  {
   "cell_type": "code",
   "execution_count": null,
   "metadata": {},
   "outputs": [],
   "source": []
  }
 ],
 "metadata": {
  "kernelspec": {
   "display_name": "Python 3",
   "language": "python",
   "name": "python3"
  },
  "language_info": {
   "codemirror_mode": {
    "name": "ipython",
    "version": 3
   },
   "file_extension": ".py",
   "mimetype": "text/x-python",
   "name": "python",
   "nbconvert_exporter": "python",
   "pygments_lexer": "ipython3",
   "version": "3.8.5"
  }
 },
 "nbformat": 4,
 "nbformat_minor": 4
}
