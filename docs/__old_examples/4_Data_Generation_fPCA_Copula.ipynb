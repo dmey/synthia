{
 "cells": [
  {
   "cell_type": "markdown",
   "metadata": {},
   "source": [
    "# Mixed Copula/fPCA"
   ]
  },
  {
   "cell_type": "code",
   "execution_count": null,
   "metadata": {},
   "outputs": [],
   "source": [
    "%load_ext autoreload\n",
    "%autoreload 2\n",
    "\n",
    "from pathlib import Path\n",
    "from multiprocessing import cpu_count\n",
    "\n",
    "import numpy as np\n",
    "import xarray as xr\n",
    "import pyvinecopulib as pv\n",
    "import matplotlib.pyplot as plt\n",
    "\n",
    "import synthia as syn\n",
    "\n",
    "from examples_util import plot_random_columns, plot_ds_hist"
   ]
  },
  {
   "cell_type": "code",
   "execution_count": null,
   "metadata": {},
   "outputs": [],
   "source": [
    "# Constants\n",
    "this_dir = Path.cwd()\n",
    "data_dir = this_dir.parents[1] / 'data'\n",
    "path_to_data = data_dir / 'nwp_saf_profiles_in.nc'\n",
    "\n",
    "scalar_vars = [\n",
    " 'skin_temperature',\n",
    " 'sw_albedo',\n",
    " 'lw_emissivity',\n",
    " 'cos_solar_zenith_angle',\n",
    " 'cloud_fraction'\n",
    "]\n",
    "\n",
    "vector_vars = [\n",
    " 'temperature_fl',\n",
    " 'q',\n",
    " 'q_liquid',\n",
    " 'q_ice',\n",
    " 're_liquid',\n",
    " 're_ice'\n",
    "]"
   ]
  },
  {
   "cell_type": "code",
   "execution_count": null,
   "metadata": {},
   "outputs": [],
   "source": [
    "ds_true = xr.open_dataset(path_to_data)\n",
    "# Load 'relevant' variables\n",
    "ds_true = ds_true[scalar_vars + vector_vars]\n",
    "ds_true"
   ]
  },
  {
   "cell_type": "code",
   "execution_count": null,
   "metadata": {},
   "outputs": [],
   "source": [
    "zero_boundary_vars = [\n",
    " 'q',\n",
    " 'q_liquid',\n",
    " 'q_ice',\n",
    " 're_liquid',\n",
    " 're_ice'\n",
    "]\n",
    "\n",
    "zero_one_boundary_vars = [\n",
    " 'sw_albedo',\n",
    " 'lw_emissivity',\n",
    " 'cos_solar_zenith_angle',\n",
    " 'cloud_fraction'\n",
    "]\n",
    "\n",
    "# Tranform data that has hard bounds\n",
    "transformer = syn.CombinedTransformer([\n",
    "    syn.BoxCoxTransformer(zero_boundary_vars, 0),\n",
    "    syn.ArcTanhTransformer(zero_one_boundary_vars)\n",
    "])\n",
    "ds_true_transformed  = transformer.apply(ds_true)\n",
    "ds_true_transformed"
   ]
  },
  {
   "cell_type": "code",
   "execution_count": null,
   "metadata": {},
   "outputs": [],
   "source": [
    "# MixedFPCA will autimatically model vectors with fPCA and scalars with Copula\n",
    "generator = syn.MixedFPCADataGenerator()\n",
    "\n",
    "copula = syn.GaussianCopula()\n",
    "parameterizer = syn.QuantileParameterizer(n_quantiles=100)\n",
    "\n",
    "generator.fit(ds_true_transformed, copula=copula, n_fpca_components=20, parameterize_by=parameterizer)"
   ]
  },
  {
   "cell_type": "code",
   "execution_count": null,
   "metadata": {},
   "outputs": [],
   "source": [
    "# Generate same number of samples as in the input\n",
    "n_samples = ds_true_transformed.dims['column']\n",
    "ds_synth_transformed = generator.generate(n_samples=n_samples)\n",
    "ds_synth_transformed"
   ]
  },
  {
   "cell_type": "code",
   "execution_count": null,
   "metadata": {},
   "outputs": [],
   "source": [
    "# Recover previously transformed variables\n",
    "ds_synth = transformer.revert(ds_synth_transformed)\n",
    "ds_synth"
   ]
  },
  {
   "cell_type": "code",
   "execution_count": null,
   "metadata": {},
   "outputs": [],
   "source": [
    "# FIXME: these are perhaps too smoth \n",
    "plot_random_columns(ds_true, ds_synth)"
   ]
  },
  {
   "cell_type": "code",
   "execution_count": null,
   "metadata": {},
   "outputs": [],
   "source": [
    "plot_ds_hist(ds_true, ds_synth)"
   ]
  },
  {
   "cell_type": "code",
   "execution_count": null,
   "metadata": {},
   "outputs": [],
   "source": []
  }
 ],
 "metadata": {
  "kernelspec": {
   "display_name": "Python 3",
   "language": "python",
   "name": "python3"
  },
  "language_info": {
   "codemirror_mode": {
    "name": "ipython",
    "version": 3
   },
   "file_extension": ".py",
   "mimetype": "text/x-python",
   "name": "python",
   "nbconvert_exporter": "python",
   "pygments_lexer": "ipython3",
   "version": "3.8.3"
  }
 },
 "nbformat": 4,
 "nbformat_minor": 4
}
