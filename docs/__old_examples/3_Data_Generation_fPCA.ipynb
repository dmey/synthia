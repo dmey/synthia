{
 "cells": [
  {
   "cell_type": "markdown",
   "metadata": {},
   "source": [
    "# fPCA"
   ]
  },
  {
   "cell_type": "code",
   "execution_count": null,
   "metadata": {},
   "outputs": [],
   "source": [
    "%load_ext autoreload\n",
    "%autoreload\n",
    "\n",
    "\n",
    "%load_ext autoreload\n",
    "%autoreload 2\n",
    "\n",
    "from pathlib import Path\n",
    "from multiprocessing import cpu_count\n",
    "\n",
    "import numpy as np\n",
    "import xarray as xr\n",
    "import pyvinecopulib as pv\n",
    "import matplotlib.pyplot as plt\n",
    "\n",
    "import synthia as syn\n",
    "\n",
    "from examples_util import plot_random_columns, plot_ds_hist, plot_summary_stat_column"
   ]
  },
  {
   "cell_type": "code",
   "execution_count": null,
   "metadata": {},
   "outputs": [],
   "source": [
    "# Constants\n",
    "this_dir = Path.cwd()\n",
    "data_dir = this_dir.parents[1] / 'data'\n",
    "path_to_data = data_dir / 'nwp_saf_profiles_in.nc'\n",
    "\n",
    "scalar_vars = [\n",
    " 'skin_temperature',\n",
    " 'sw_albedo',\n",
    " 'lw_emissivity',\n",
    " 'cos_solar_zenith_angle',\n",
    " 'cloud_fraction'\n",
    "]\n",
    "\n",
    "vector_vars = [\n",
    " 'temperature_fl',\n",
    " 'q',\n",
    " 'q_liquid',\n",
    " 'q_ice',\n",
    " 're_liquid',\n",
    " 're_ice'\n",
    "]"
   ]
  },
  {
   "cell_type": "code",
   "execution_count": null,
   "metadata": {},
   "outputs": [],
   "source": [
    "ds_true = xr.open_dataset(path_to_data)\n",
    "# Load 'relevant' variables\n",
    "ds_true = ds_true[scalar_vars + vector_vars]\n",
    "ds_true"
   ]
  },
  {
   "cell_type": "code",
   "execution_count": null,
   "metadata": {},
   "outputs": [],
   "source": [
    "zero_boundary_vars = [\n",
    " 'q',\n",
    " 'q_liquid',\n",
    " 'q_ice',\n",
    " 're_liquid',\n",
    "]\n",
    "\n",
    "zero_one_boundary_vars = [\n",
    " 'sw_albedo',\n",
    " 'lw_emissivity',\n",
    " 'cos_solar_zenith_angle',\n",
    " 'cloud_fraction'\n",
    "]"
   ]
  },
  {
   "cell_type": "code",
   "execution_count": null,
   "metadata": {},
   "outputs": [],
   "source": [
    "for var_name in zero_boundary_vars:\n",
    "    plot_summary_stat_column(ds_true[var_name])"
   ]
  },
  {
   "cell_type": "code",
   "execution_count": null,
   "metadata": {},
   "outputs": [],
   "source": [
    "# Manual transorfmation: manually log/exp tranform zero boundary vars\n",
    "eps = 1e-6\n",
    "\n",
    "for var_name in zero_boundary_vars:\n",
    "    plot_summary_stat_column(np.log(ds_true[zero_boundary_vars] + 1e-6)[var_name])"
   ]
  },
  {
   "cell_type": "code",
   "execution_count": null,
   "metadata": {},
   "outputs": [],
   "source": [
    "# Tranform data that has hard bounds\n",
    "transformer = syn.CombinedTransformer([\n",
    "    syn.BoxCoxTransformer(zero_boundary_vars, 0),\n",
    "    syn.ArcTanhTransformer(zero_one_boundary_vars)\n",
    "])\n",
    "ds_true_transformed  = transformer.apply(ds_true)\n",
    "ds_true_transformed"
   ]
  },
  {
   "cell_type": "code",
   "execution_count": null,
   "metadata": {},
   "outputs": [],
   "source": [
    "generator = syn.FPCADataGenerator()\n",
    "generator.fit(ds_true_transformed, n_fpca_components=200)"
   ]
  },
  {
   "cell_type": "code",
   "execution_count": null,
   "metadata": {},
   "outputs": [],
   "source": [
    "# Generate same number of samples as in the input\n",
    "n_samples = ds_true_transformed.dims['column']\n",
    "ds_synth_transformed = generator.generate(n_samples=n_samples)\n",
    "ds_synth_transformed"
   ]
  },
  {
   "cell_type": "code",
   "execution_count": null,
   "metadata": {},
   "outputs": [],
   "source": [
    "ds_synth = transformer.revert(ds_synth_transformed)\n",
    "ds_synth"
   ]
  },
  {
   "cell_type": "code",
   "execution_count": null,
   "metadata": {},
   "outputs": [],
   "source": [
    "for var_name in zero_boundary_vars:\n",
    "    plot_summary_stat_column(ds_true[var_name], ds_synth[var_name])"
   ]
  },
  {
   "cell_type": "code",
   "execution_count": null,
   "metadata": {},
   "outputs": [],
   "source": [
    "# FIXME: these are perhaps too smoth \n",
    "plot_random_columns(ds_true, ds_synth)"
   ]
  },
  {
   "cell_type": "code",
   "execution_count": null,
   "metadata": {},
   "outputs": [],
   "source": [
    "# These are very well modelled because are uncorrelated with other features.\n",
    "plot_ds_hist(ds_true, ds_synth)"
   ]
  },
  {
   "cell_type": "code",
   "execution_count": null,
   "metadata": {},
   "outputs": [],
   "source": [
    "# Evaluation -- histogram\n",
    "# FIXME adapt to dataset instead of array\n",
    "#ds_true_norm = np.linalg.norm(ds_true_transformed_stacked, axis=1)\n",
    "#ds_synth_norm = np.linalg.norm(arr_synth_transformed_stacked, axis=1)\n",
    "#plt.hist(ds_true_norm, bins=100, alpha=1, label='True')\n",
    "#plt.hist(ds_synth_norm, bins=100, alpha=0.5, label='Synthetic')\n",
    "#plt.legend()\n",
    "#plt.show()"
   ]
  },
  {
   "cell_type": "code",
   "execution_count": null,
   "metadata": {},
   "outputs": [],
   "source": []
  }
 ],
 "metadata": {
  "kernelspec": {
   "display_name": "Python 3",
   "language": "python",
   "name": "python3"
  },
  "language_info": {
   "codemirror_mode": {
    "name": "ipython",
    "version": 3
   },
   "file_extension": ".py",
   "mimetype": "text/x-python",
   "name": "python",
   "nbconvert_exporter": "python",
   "pygments_lexer": "ipython3",
   "version": "3.8.5"
  }
 },
 "nbformat": 4,
 "nbformat_minor": 4
}
