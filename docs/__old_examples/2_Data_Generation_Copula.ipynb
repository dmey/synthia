{
 "cells": [
  {
   "cell_type": "markdown",
   "metadata": {},
   "source": [
    "# Copula"
   ]
  },
  {
   "cell_type": "code",
   "execution_count": null,
   "metadata": {},
   "outputs": [],
   "source": [
    "%load_ext autoreload\n",
    "%autoreload 2\n",
    "\n",
    "from pathlib import Path\n",
    "from multiprocessing import cpu_count\n",
    "\n",
    "import numpy as np\n",
    "import xarray as xr\n",
    "import pyvinecopulib as pv\n",
    "import matplotlib.pyplot as plt\n",
    "\n",
    "import synthia as syn\n",
    "\n",
    "from examples_util import plot_random_columns, plot_ds_hist"
   ]
  },
  {
   "cell_type": "code",
   "execution_count": null,
   "metadata": {},
   "outputs": [],
   "source": [
    "# Constants\n",
    "this_dir = Path.cwd()\n",
    "data_dir = this_dir.parents[1] / 'data'\n",
    "path_to_data = data_dir / 'nwp_saf_profiles_in.nc'\n",
    "\n",
    "scalar_vars = [\n",
    " 'skin_temperature',\n",
    " 'sw_albedo',\n",
    " 'lw_emissivity',\n",
    " 'cos_solar_zenith_angle',\n",
    " 'cloud_fraction'\n",
    "]\n",
    "\n",
    "vector_vars = [\n",
    " 'temperature_fl',\n",
    " 'q',\n",
    " 'q_liquid',\n",
    " 'q_ice',\n",
    " 're_liquid',\n",
    " 're_ice'\n",
    "]"
   ]
  },
  {
   "cell_type": "code",
   "execution_count": null,
   "metadata": {},
   "outputs": [],
   "source": [
    "ds_true = xr.open_dataset(path_to_data)\n",
    "# Load 'relevant' variables\n",
    "ds_true = ds_true[scalar_vars + vector_vars]\n",
    "# FIXME: for now subset to reduce CPU time\n",
    "ds_true = ds_true.sel(column=slice(0, 5000))\n",
    "ds_true"
   ]
  },
  {
   "cell_type": "code",
   "execution_count": null,
   "metadata": {},
   "outputs": [],
   "source": [
    "# Fitting the model\n",
    "generator = syn.CopulaDataGenerator()\n",
    "parameterizer = syn.QuantileParameterizer(n_quantiles=100)\n",
    "\n",
    "# FIXME: not using as even when specifying the type, and with a low truncation level, \n",
    "# CPU time is unfeasible high on average consumer-hardware. \n",
    "ctrl = pv.FitControlsVinecop(family_set=[pv.BicopFamily.tll], trunc_lvl=2, select_trunc_lvl=False,\n",
    "                             show_trace=False, num_threads=cpu_count())\n",
    "#generator.fit(ds_true, copula=syn.VineCopula(controls=ctrl), parameterize_by=parameterizer)\n",
    "\n",
    "generator.fit(ds_true, copula=syn.GaussianCopula(), parameterize_by=parameterizer)"
   ]
  },
  {
   "cell_type": "code",
   "execution_count": null,
   "metadata": {},
   "outputs": [],
   "source": [
    "# Generate same number of samples as in the input\n",
    "n_samples = ds_true.dims['column']\n",
    "ds_synth = generator.generate(n_samples=n_samples, uniformization_ratio=0, stretch_factor=1)"
   ]
  },
  {
   "cell_type": "code",
   "execution_count": null,
   "metadata": {},
   "outputs": [],
   "source": [
    "# FIXME: the problem using (Gaussian) copula(s) is that the profiles are much \n",
    "# more wobbly that the true -- this will become a problem when trying to fit a regression model.\n",
    "# Gneerally, the jerk, as shown by the second derivative, is much higher.\n",
    "plot_random_columns(ds_true, ds_synth)"
   ]
  },
  {
   "cell_type": "code",
   "execution_count": null,
   "metadata": {},
   "outputs": [],
   "source": [
    "# These are very well modelled because are uncorrelated with other features.\n",
    "plot_ds_hist(ds_true, ds_synth)"
   ]
  },
  {
   "cell_type": "code",
   "execution_count": null,
   "metadata": {},
   "outputs": [],
   "source": [
    "# TODO adapt to Dataset\n",
    "\n",
    "# Evaluation -- histogram\n",
    "#ds_true_norm = np.linalg.norm(ds_true_stacked, axis=1)\n",
    "#ds_synth_norm = np.linalg.norm(ds_synth_stacked, axis=1)\n",
    "#plt.hist(ds_true_norm, bins=100, alpha=1, label='True')\n",
    "#plt.hist(ds_synth_norm, bins=100, alpha=0.5, label='Synthetic')\n",
    "#plt.legend()\n",
    "#plt.show()"
   ]
  },
  {
   "cell_type": "code",
   "execution_count": null,
   "metadata": {},
   "outputs": [],
   "source": []
  }
 ],
 "metadata": {
  "kernelspec": {
   "display_name": "Python 3",
   "language": "python",
   "name": "python3"
  },
  "language_info": {
   "codemirror_mode": {
    "name": "ipython",
    "version": 3
   },
   "file_extension": ".py",
   "mimetype": "text/x-python",
   "name": "python",
   "nbconvert_exporter": "python",
   "pygments_lexer": "ipython3",
   "version": "3.8.5"
  }
 },
 "nbformat": 4,
 "nbformat_minor": 4
}
