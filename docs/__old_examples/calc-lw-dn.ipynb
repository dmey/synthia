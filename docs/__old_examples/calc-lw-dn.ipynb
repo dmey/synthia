{
 "cells": [
  {
   "cell_type": "code",
   "execution_count": null,
   "metadata": {},
   "outputs": [],
   "source": [
    "%load_ext autoreload\n",
    "%autoreload 2\n",
    "\n",
    "from pathlib import Path\n",
    "import numpy as np\n",
    "from scipy.constants import Stefan_Boltzmann\n",
    "import xarray as xr\n",
    "\n",
    "import matplotlib.pyplot as plt\n",
    "\n",
    "import synthia as syn\n",
    "from synthia.util import to_stacked_array, to_unstacked_dataset"
   ]
  },
  {
   "cell_type": "markdown",
   "metadata": {},
   "source": [
    "## Input data"
   ]
  },
  {
   "cell_type": "code",
   "execution_count": null,
   "metadata": {},
   "outputs": [],
   "source": [
    "THIS_DIR = Path.cwd()\n",
    "ds_input = xr.open_dataset(THIS_DIR.parents[1] / 'data' / 'nwp_saf_profiles_in.nc')\n",
    "\n",
    "input_relevant = [\n",
    "    'temperature_fl',\n",
    "    'temperature_hl',\n",
    "    'pressure_hl',\n",
    "]\n",
    "\n",
    "ds_true_in = ds_input[input_relevant]\n",
    "ds_true_in"
   ]
  },
  {
   "cell_type": "raw",
   "metadata": {},
   "source": [
    "sparta_out = xr.open_dataset(\"/mnt/c/Users/David/Documents/GitHub/dmey/phd-rads/saf_profiles/data/ecrad_nwp_saf_profiles_spartacus_out.nc\")\n",
    "triple_out = xr.open_dataset(\"/mnt/c/Users/David/Documents/GitHub/dmey/phd-rads/saf_profiles/data/ecrad_nwp_saf_profiles_tripleclouds_out.nc\")"
   ]
  },
  {
   "cell_type": "markdown",
   "metadata": {},
   "source": [
    "## Physical model"
   ]
  },
  {
   "cell_type": "code",
   "execution_count": null,
   "metadata": {},
   "outputs": [],
   "source": [
    "def compute_optical_depth(ds: xr.Dataset) -> xr.DataArray:\n",
    "    p_hl_a = ds['pressure_hl'].sel(half_level=slice(1,None))\n",
    "    p_hl_b = ds['pressure_hl'].sel(half_level=slice(None,-1))\n",
    "    delta_pressure = p_hl_a - p_hl_b \n",
    "    delta_pressure = delta_pressure.rename({'half_level': 'level'})\n",
    "    g = 9.80665 # m/s²\n",
    "    rho_liquid = 1000 # kg/m³\n",
    "    rho_ice = 917 # kg/m³\n",
    "    optical_depth = (ds['q_liquid'] / (rho_liquid * ds['re_liquid']) +\\\n",
    "                     ds['q_ice'] / (rho_ice * ds['re_ice']) ) * delta_pressure / g\n",
    "    optical_depth = optical_depth.rename('optical_depth_fl')\n",
    "    return xr.merge([ds, optical_depth])"
   ]
  },
  {
   "cell_type": "code",
   "execution_count": null,
   "metadata": {},
   "outputs": [],
   "source": [
    "def calc_emiss(sigma_hl, total_column_opt_depth, layer_cloud_optical_depth):\n",
    "    \"\"\" Calculate per layer emissivity\n",
    "    \"\"\"\n",
    "    diffusivity_factor = 1/np.cos(np.radians(53))\n",
    "    layer_gas_opt_depth = total_column_opt_depth * sigma_hl.diff('half_level').rename({'half_level': 'level'})\n",
    "    layer_opt_depths = layer_gas_opt_depth + layer_cloud_optical_depth\n",
    "    emiss = 1 - np.exp(-diffusivity_factor * layer_opt_depths)\n",
    "    return emiss\n",
    "\n",
    "def calc_plank(temperature):\n",
    "    b = Stefan_Boltzmann * temperature**4\n",
    "    return b\n",
    "\n",
    "def calc_lw_from_temperature(ds, total_column_opt_depth, layer_cloud_optical_depth):\n",
    "    flux_dn_hl = xr.zeros_like(ds.pressure_hl).rename('flux_dn_lw')\n",
    "    flux_dn_hl.attrs = {'long_name': 'Downward logwave flux', 'units': 'W/m2'}\n",
    "    \n",
    "    plank_fl = Stefan_Boltzmann * ds['temperature_fl']**4\n",
    "    sigma_hl = ds_input['pressure_hl'] / ds_input['pressure_hl'].sel(half_level=-1)\n",
    "    emiss_fl = calc_emiss(sigma_hl, total_column_opt_depth, layer_cloud_optical_depth)\n",
    "    \n",
    "    # BC @ TOA: no flux\n",
    "    flux_dn_hl[:, 0] = 0.\n",
    "\n",
    "    for half_level in range(flux_dn_hl.shape[1]-1):\n",
    "        flux_dn_hl[:, half_level+1] = flux_dn_hl[:, half_level] * (1 - emiss_fl[:, half_level]) + \\\n",
    "                                 plank_fl[:, half_level] * emiss_fl[:, half_level]\n",
    "    return xr.merge([ds, flux_dn_hl])"
   ]
  },
  {
   "cell_type": "code",
   "execution_count": null,
   "metadata": {},
   "outputs": [],
   "source": [
    "layer_cloud_optical_depth = compute_optical_depth(ds_input)['optical_depth_fl']"
   ]
  },
  {
   "cell_type": "code",
   "execution_count": null,
   "metadata": {},
   "outputs": [],
   "source": [
    "total_column_opt_depth = 1.7 # We try with 30, range is 0.5 to many thousands.\n",
    "simple_out = calc_lw_from_temperature(ds_true_in, total_column_opt_depth, layer_cloud_optical_depth)\n",
    "\n",
    "N_COLUMNS = 10\n",
    "fig, ax = plt.subplots(N_COLUMNS,1, figsize=(6, 4*N_COLUMNS))\n",
    "for i, column in enumerate(np.random.choice(simple_out.column, N_COLUMNS)):\n",
    "    simple_out.flux_dn_lw.sel(column=column).plot(ax=ax[i], label='Simple')\n",
    "    #sparta_out.flux_dn_lw.sel(column=column).plot(ax=ax[i], label='Spartacus')\n",
    "    #triple_out.flux_dn_lw.sel(column=column).plot(ax=ax[i], label='Tripleclouds')\n",
    "    ax[i].legend()"
   ]
  },
  {
   "cell_type": "raw",
   "metadata": {},
   "source": [
    "# Find the column optical depth that gives the best results\n",
    "d = {\n",
    "    'optical_depth' : [],\n",
    "    'mse' : []\n",
    "}\n",
    "\n",
    "optical_depths = np.linspace(0.5,5, 50)\n",
    "for i, optical_depth in enumerate(optical_depths):\n",
    "    d['optical_depth'].append(optical_depth)\n",
    "    simple_out = calc_lw_from_temperature(ds_true_in, optical_depth, layer_cloud_optical_depth)\n",
    "    d['mse'].append(((simple_out['flux_dn_lw'].sel(half_level=-1) - triple_out['flux_dn_lw'].sel(half_level=-1))**2).mean().values)"
   ]
  },
  {
   "cell_type": "raw",
   "metadata": {},
   "source": [
    "d = pd.DataFrame(d)\n",
    "plt.plot(d.sort_values(by='mse')['mse'])\n",
    "d.sort_values(by='mse').iloc[0]"
   ]
  },
  {
   "cell_type": "code",
   "execution_count": null,
   "metadata": {},
   "outputs": [],
   "source": []
  }
 ],
 "metadata": {
  "kernelspec": {
   "display_name": "Python 3",
   "language": "python",
   "name": "python3"
  },
  "language_info": {
   "codemirror_mode": {
    "name": "ipython",
    "version": 3
   },
   "file_extension": ".py",
   "mimetype": "text/x-python",
   "name": "python",
   "nbconvert_exporter": "python",
   "pygments_lexer": "ipython3",
   "version": "3.8.5"
  }
 },
 "nbformat": 4,
 "nbformat_minor": 4
}
