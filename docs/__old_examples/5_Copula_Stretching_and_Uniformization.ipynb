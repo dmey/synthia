{
 "cells": [
  {
   "cell_type": "markdown",
   "metadata": {},
   "source": [
    "# Extras: stretching and uniformization"
   ]
  },
  {
   "cell_type": "code",
   "execution_count": null,
   "metadata": {},
   "outputs": [],
   "source": [
    "%load_ext autoreload\n",
    "%autoreload 2\n",
    "\n",
    "import numpy as np\n",
    "import xarray as xr\n",
    "import pandas as pd\n",
    "\n",
    "import synthia as syn\n",
    "\n",
    "import pyvinecopulib as pv\n",
    "\n",
    "import matplotlib.pyplot as plt\n",
    "\n",
    "import pandas as pd\n",
    "import numpy as np\n",
    "import seaborn as sns\n",
    "import psychrolib as psy"
   ]
  },
  {
   "cell_type": "code",
   "execution_count": null,
   "metadata": {},
   "outputs": [],
   "source": [
    "psy.SetUnitSystem(psy.SI)\n",
    "\n",
    "# Generate the data\n",
    "n_points = 50\n",
    "TDryBulb = np.linspace(-20, 50, num=n_points)\n",
    "RelHum = np.linspace(0.1, 1, num=n_points)\n",
    "Pressure =  101325\n",
    "grid = np.meshgrid(TDryBulb, RelHum, Pressure)\n",
    "\n",
    "# Shape\n",
    "df = pd.DataFrame([grid[0].flatten(), grid[1].flatten(), grid[2].flatten()]).T\n",
    "df.columns = ['Temperature', 'RH', 'Pressure']\n",
    "\n",
    "# Create outputs\n",
    "v_GetHumRatioFromRelHum = np.vectorize(psy.GetHumRatioFromRelHum)\n",
    "HumRatio = v_GetHumRatioFromRelHum(df.Temperature, df.RH, df.Pressure)\n",
    "\n",
    "df = pd.concat([df, pd.Series(HumRatio, name='HumRatio')], axis=1)\n",
    "df = df.drop(['RH'], axis=1)\n",
    "\n",
    "h = sns.jointplot(df.Temperature, df.HumRatio, kind='scatter', stat_func=None, alpha=0.1)\n",
    "h.set_axis_labels('Temperature', 'HumRatio', fontsize=16);"
   ]
  },
  {
   "cell_type": "code",
   "execution_count": null,
   "metadata": {},
   "outputs": [],
   "source": [
    "# Our library requires xarray.Dataset\n",
    "ds = df.to_xarray()\n",
    "ds"
   ]
  },
  {
   "cell_type": "code",
   "execution_count": null,
   "metadata": {},
   "outputs": [],
   "source": [
    "# Fit copula to data\n",
    "parameterizer = syn.QuantileParameterizer(n_quantiles=100)\n",
    "generator = syn.CopulaDataGenerator()\n",
    "generator.fit(ds, copula=syn.GaussianCopula(), parameterize_by=parameterizer)"
   ]
  },
  {
   "cell_type": "code",
   "execution_count": null,
   "metadata": {},
   "outputs": [],
   "source": [
    "# Generate samples\n",
    "n_synth_samples = 10000 # we have three dims -- this is the same number of samples as true.\n",
    "ds_synthetic = generator.generate(n_samples=n_synth_samples, uniformization_ratio=0, stretch_factor=1)"
   ]
  },
  {
   "cell_type": "code",
   "execution_count": null,
   "metadata": {},
   "outputs": [],
   "source": [
    "h = sns.jointplot(ds_synthetic.Temperature, ds_synthetic.HumRatio, kind='scatter', stat_func=None, alpha=0.1)\n",
    "h.set_axis_labels('Temperature', 'HumRatio', fontsize=16);"
   ]
  },
  {
   "cell_type": "code",
   "execution_count": null,
   "metadata": {},
   "outputs": [],
   "source": []
  },
  {
   "cell_type": "code",
   "execution_count": null,
   "metadata": {},
   "outputs": [],
   "source": []
  }
 ],
 "metadata": {
  "kernelspec": {
   "display_name": "Python 3",
   "language": "python",
   "name": "python3"
  },
  "language_info": {
   "codemirror_mode": {
    "name": "ipython",
    "version": 3
   },
   "file_extension": ".py",
   "mimetype": "text/x-python",
   "name": "python",
   "nbconvert_exporter": "python",
   "pygments_lexer": "ipython3",
   "version": "3.8.3"
  }
 },
 "nbformat": 4,
 "nbformat_minor": 4
}
